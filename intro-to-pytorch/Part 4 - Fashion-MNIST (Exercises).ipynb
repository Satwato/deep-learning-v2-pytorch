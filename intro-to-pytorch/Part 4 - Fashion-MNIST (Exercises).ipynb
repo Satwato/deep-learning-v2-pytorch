{
  "nbformat": 4,
  "nbformat_minor": 0,
  "metadata": {
    "colab": {
      "name": "Part 4 - Fashion-MNIST (Exercises).ipynb",
      "version": "0.3.2",
      "provenance": [],
      "toc_visible": true
    },
    "language_info": {
      "codemirror_mode": {
        "name": "ipython",
        "version": 3
      },
      "file_extension": ".py",
      "mimetype": "text/x-python",
      "name": "python",
      "nbconvert_exporter": "python",
      "pygments_lexer": "ipython3",
      "version": "3.6.7"
    },
    "kernelspec": {
      "display_name": "Python 3",
      "language": "python",
      "name": "python3"
    }
  },
  "cells": [
    {
      "cell_type": "markdown",
      "metadata": {
        "id": "AclEVSkuLQ2P",
        "colab_type": "text"
      },
      "source": [
        "# Classifying Fashion-MNIST\n",
        "\n",
        "Now it's your turn to build and train a neural network. You'll be using the [Fashion-MNIST dataset](https://github.com/zalandoresearch/fashion-mnist), a drop-in replacement for the MNIST dataset. MNIST is actually quite trivial with neural networks where you can easily achieve better than 97% accuracy. Fashion-MNIST is a set of 28x28 greyscale images of clothes. It's more complex than MNIST, so it's a better representation of the actual performance of your network, and a better representation of datasets you'll use in the real world.\n",
        "\n",
        "<img src='https://github.com/Satwato/deep-learning-v2-pytorch/blob/Satwato/intro-to-pytorch/assets/fashion-mnist-sprite.png?raw=1' width=500px>\n",
        "\n",
        "In this notebook, you'll build your own neural network. For the most part, you could just copy and paste the code from Part 3, but you wouldn't be learning. It's important for you to write the code yourself and get it to work. Feel free to consult the previous notebooks though as you work through this.\n",
        "\n",
        "First off, let's load the dataset through torchvision."
      ]
    },
    {
      "cell_type": "code",
      "metadata": {
        "id": "im4WcvIpLQ2T",
        "colab_type": "code",
        "colab": {}
      },
      "source": [
        "import torch\n",
        "from torchvision import datasets, transforms\n",
        "import helper1\n",
        "\n",
        "# Define a transform to normalize the data\n",
        "transform = transforms.Compose([transforms.ToTensor(),\n",
        "                                transforms.Normalize((0.5,), (0.5,))])\n",
        "# Download and load the training data\n",
        "trainset = datasets.FashionMNIST('~/.pytorch/F_MNIST_data/', download=True, train=True, transform=transform)\n",
        "trainloader = torch.utils.data.DataLoader(trainset, batch_size=64, shuffle=True)\n",
        "\n",
        "# Download and load the test data\n",
        "testset = datasets.FashionMNIST('~/.pytorch/F_MNIST_data/', download=True, train=False, transform=transform)\n",
        "testloader = torch.utils.data.DataLoader(testset, batch_size=64, shuffle=True)"
      ],
      "execution_count": 0,
      "outputs": []
    },
    {
      "cell_type": "markdown",
      "metadata": {
        "id": "AfLOjyOoLQ2X",
        "colab_type": "text"
      },
      "source": [
        "Here we can see one of the images."
      ]
    },
    {
      "cell_type": "code",
      "metadata": {
        "id": "yis2WPutLQ2X",
        "colab_type": "code",
        "colab": {
          "base_uri": "https://localhost:8080/",
          "height": 252
        },
        "outputId": "cbe48a2d-6d36-4ed7-f3dd-5f8137de6e20"
      },
      "source": [
        "image, label = next(iter(trainloader))\n",
        "helper1.imshow(image[0,:]);"
      ],
      "execution_count": 4,
      "outputs": [
        {
          "output_type": "display_data",
          "data": {
            "image/png": "[encoded data removed]",
            "text/plain": [
              "<Figure size 432x288 with 1 Axes>"
            ]
          },
          "metadata": {
            "tags": []
          }
        }
      ]
    },
    {
      "cell_type": "markdown",
      "metadata": {
        "id": "17UxvfZWLQ2b",
        "colab_type": "text"
      },
      "source": [
        "## Building the network\n",
        "\n",
        "Here you should define your network. As with MNIST, each image is 28x28 which is a total of 784 pixels, and there are 10 classes. You should include at least one hidden layer. We suggest you use ReLU activations for the layers and to return the logits or log-softmax from the forward pass. It's up to you how many layers you add and the size of those layers."
      ]
    },
    {
      "cell_type": "code",
      "metadata": {
        "id": "iazXqh1kLQ2c",
        "colab_type": "code",
        "colab": {
          "base_uri": "https://localhost:8080/",
          "height": 357
        },
        "outputId": "bfc79f09-cf74-42ab-f32a-0eb2b7ddc092"
      },
      "source": [
        "# TODO: Define your network architecture here\n",
        "from torch import nn\n",
        "from torch import optim\n",
        "model= nn.Sequential(nn.Linear(784,128),\n",
        "                    nn.Tanh(),\n",
        "                    nn.Linear(128,64),\n",
        "                    nn.Tanh(),\n",
        "                    nn.Linear(64,10),\n",
        "                    nn.LogSoftmax(dim=1))\n",
        "criterion=nn.NLLLoss()\n",
        "optimizer=optim.SGD(model.parameters(), lr=0.004)\n",
        "\n",
        "epochs=20\n",
        "\n",
        "for e in range(epochs):\n",
        "  r_l=0\n",
        "  for images,labels in trainloader:\n",
        "    images= images.view(images.shape[0],-1)\n",
        "    optimizer.zero_grad()\n",
        "    ot=model.forward(images)\n",
        "    loss=criterion(ot,labels)\n",
        "    loss.backward()\n",
        "    optimizer.step()\n",
        "    r_l+=loss.item()\n",
        "  print(f\"{e}: Training loss: {r_l/len(trainloader)}\")\n"
      ],
      "execution_count": 21,
      "outputs": [
        {
          "output_type": "stream",
          "text": [
            "0: Training loss: 1.4124993953877674\n",
            "1: Training loss: 0.803262500461739\n",
            "2: Training loss: 0.6548630264140903\n",
            "3: Training loss: 0.584733646529824\n",
            "4: Training loss: 0.5390895792543252\n",
            "5: Training loss: 0.5078337046383287\n",
            "6: Training loss: 0.4857799349499664\n",
            "7: Training loss: 0.46889938593609753\n",
            "8: Training loss: 0.4554349428364463\n",
            "9: Training loss: 0.4441164950413236\n",
            "10: Training loss: 0.4344236724602897\n",
            "11: Training loss: 0.425390539107038\n",
            "12: Training loss: 0.4179105339591691\n",
            "13: Training loss: 0.41082176289705835\n",
            "14: Training loss: 0.40456962350334946\n",
            "15: Training loss: 0.3988051436412563\n",
            "16: Training loss: 0.39337671347963277\n",
            "17: Training loss: 0.38877605788234965\n",
            "18: Training loss: 0.38373260401777115\n",
            "19: Training loss: 0.37953110209215424\n"
          ],
          "name": "stdout"
        }
      ]
    },
    {
      "cell_type": "markdown",
      "metadata": {
        "id": "Mc2EowDpLQ2g",
        "colab_type": "text"
      },
      "source": [
        "# Train the network\n",
        "\n",
        "Now you should create your network and train it. First you'll want to define [the criterion](http://pytorch.org/docs/master/nn.html#loss-functions) ( something like `nn.CrossEntropyLoss`) and [the optimizer](http://pytorch.org/docs/master/optim.html) (typically `optim.SGD` or `optim.Adam`).\n",
        "\n",
        "Then write the training code. Remember the training pass is a fairly straightforward process:\n",
        "\n",
        "* Make a forward pass through the network to get the logits \n",
        "* Use the logits to calculate the loss\n",
        "* Perform a backward pass through the network with `loss.backward()` to calculate the gradients\n",
        "* Take a step with the optimizer to update the weights\n",
        "\n",
        "By adjusting the hyperparameters (hidden units, learning rate, etc), you should be able to get the training loss below 0.4."
      ]
    },
    {
      "cell_type": "code",
      "metadata": {
        "id": "2XvWWaTrLQ2h",
        "colab_type": "code",
        "colab": {}
      },
      "source": [
        "# TODO: Create the network, define the criterion and optimizer\n"
      ],
      "execution_count": 0,
      "outputs": []
    },
    {
      "cell_type": "code",
      "metadata": {
        "id": "p0i1JPZ4LQ2l",
        "colab_type": "code",
        "colab": {}
      },
      "source": [
        "# TODO: Train the network here\n"
      ],
      "execution_count": 0,
      "outputs": []
    },
    {
      "cell_type": "code",
      "metadata": {
        "id": "-GMxoaMyLQ2p",
        "colab_type": "code",
        "colab": {
          "base_uri": "https://localhost:8080/",
          "height": 223
        },
        "outputId": "69dbd8f5-971b-4315-9f63-5861c0a62b41"
      },
      "source": [
        "%matplotlib inline\n",
        "%config InlineBackend.figure_format = 'retina'\n",
        "\n",
        "import helper\n",
        "\n",
        "# Test out your network!\n",
        "\n",
        "dataiter = iter(testloader)\n",
        "images, labels = dataiter.next()\n",
        "img = images[0]\n",
        "# Convert 2D image to 1D vector\n",
        "img = img.resize_(1, 784)\n",
        "# TODO: Calculate the class probabilities (softmax) for img\n",
        "ps = torch.exp(model(img))\n",
        "\n",
        "# Plot the image and probabilities\n",
        "helper1.view_classify(img.resize_(1, 28, 28), ps, version='Fashion')"
      ],
      "execution_count": 38,
      "outputs": [
        {
          "output_type": "display_data",
          "data": {
            "image/png": "[encoded data removed]",
            "text/plain": [
              "<Figure size 432x648 with 2 Axes>"
            ]
          },
          "metadata": {
            "tags": [],
            "image/png": {
              "width": 423,
              "height": 206
            }
          }
        }
      ]
    }
  ]
}