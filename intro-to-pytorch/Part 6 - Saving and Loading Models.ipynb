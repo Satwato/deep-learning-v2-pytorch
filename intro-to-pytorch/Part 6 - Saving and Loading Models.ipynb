{
  "nbformat": 4,
  "nbformat_minor": 0,
  "metadata": {
    "colab": {
      "name": "Part 6 - Saving and Loading Models.ipynb",
      "version": "0.3.2",
      "provenance": [],
      "toc_visible": true
    },
    "language_info": {
      "codemirror_mode": {
        "name": "ipython",
        "version": 3
      },
      "file_extension": ".py",
      "mimetype": "text/x-python",
      "name": "python",
      "nbconvert_exporter": "python",
      "pygments_lexer": "ipython3",
      "version": "3.6.6"
    },
    "kernelspec": {
      "display_name": "Python 3",
      "language": "python",
      "name": "python3"
    }
  },
  "cells": [
    {
      "cell_type": "markdown",
      "metadata": {
        "id": "hXUmI6RONGTQ",
        "colab_type": "text"
      },
      "source": [
        "# Saving and Loading Models\n",
        "\n",
        "In this notebook, I'll show you how to save and load models with PyTorch. This is important because you'll often want to load previously trained models to use in making predictions or to continue training on new data."
      ]
    },
    {
      "cell_type": "code",
      "metadata": {
        "id": "8iOHEc5UNGTU",
        "colab_type": "code",
        "colab": {}
      },
      "source": [
        "%matplotlib inline\n",
        "%config InlineBackend.figure_format = 'retina'\n",
        "\n",
        "import matplotlib.pyplot as plt\n",
        "\n",
        "import torch\n",
        "from torch import nn\n",
        "from torch import optim\n",
        "import torch.nn.functional as F\n",
        "from torchvision import datasets, transforms\n",
        "\n",
        "import helper1\n",
        "import fc_model"
      ],
      "execution_count": 0,
      "outputs": []
    },
    {
      "cell_type": "code",
      "metadata": {
        "id": "ryYD08GmNGTg",
        "colab_type": "code",
        "colab": {}
      },
      "source": [
        "# Define a transform to normalize the data\n",
        "transform = transforms.Compose([transforms.ToTensor(),\n",
        "                                transforms.Normalize((0.5,), (0.5,))])\n",
        "# Download and load the training data\n",
        "trainset = datasets.FashionMNIST('~/.pytorch/F_MNIST_data/', download=True, train=True, transform=transform)\n",
        "trainloader = torch.utils.data.DataLoader(trainset, batch_size=64, shuffle=True)\n",
        "\n",
        "# Download and load the test data\n",
        "testset = datasets.FashionMNIST('~/.pytorch/F_MNIST_data/', download=True, train=False, transform=transform)\n",
        "testloader = torch.utils.data.DataLoader(testset, batch_size=64, shuffle=True)"
      ],
      "execution_count": 0,
      "outputs": []
    },
    {
      "cell_type": "markdown",
      "metadata": {
        "id": "2nePaMA2NGTm",
        "colab_type": "text"
      },
      "source": [
        "Here we can see one of the images."
      ]
    },
    {
      "cell_type": "code",
      "metadata": {
        "id": "3SCFNBdvNGTn",
        "colab_type": "code",
        "colab": {
          "base_uri": "https://localhost:8080/",
          "height": 250
        },
        "outputId": "62a9485b-26f6-4f62-d289-e9e1d0ba31a7"
      },
      "source": [
        "image, label = next(iter(trainloader))\n",
        "helper1.imshow(image[0,:]);"
      ],
      "execution_count": 9,
      "outputs": [
        {
          "output_type": "display_data",
          "data": {
            "image/png": "[encoded data removed]",
            "text/plain": [
              "<Figure size 432x288 with 1 Axes>"
            ]
          },
          "metadata": {
            "tags": [],
            "image/png": {
              "width": 233,
              "height": 233
            }
          }
        }
      ]
    },
    {
      "cell_type": "markdown",
      "metadata": {
        "id": "tGqVZ8ATNGT2",
        "colab_type": "text"
      },
      "source": [
        "# Train a network\n",
        "\n",
        "To make things more concise here, I moved the model architecture and training code from the last part to a file called `fc_model`. Importing this, we can easily create a fully-connected network with `fc_model.Network`, and train the network using `fc_model.train`. I'll use this model (once it's trained) to demonstrate how we can save and load models."
      ]
    },
    {
      "cell_type": "code",
      "metadata": {
        "id": "813wjjwWNGT4",
        "colab_type": "code",
        "colab": {}
      },
      "source": [
        "# Create the network, define the criterion and optimizer\n",
        "\n",
        "model = fc_model.Network(784, 10, [512, 256, 128])\n",
        "criterion = nn.NLLLoss()\n",
        "optimizer = optim.Adam(model.parameters(), lr=0.001)"
      ],
      "execution_count": 0,
      "outputs": []
    },
    {
      "cell_type": "code",
      "metadata": {
        "id": "5iG3sE_-NGT9",
        "colab_type": "code",
        "colab": {
          "base_uri": "https://localhost:8080/",
          "height": 799
        },
        "outputId": "72e5ab0c-a7ae-484f-e4ef-f96e63d6c2c0"
      },
      "source": [
        "fc_model.train(model, trainloader, testloader, criterion, optimizer, epochs=2)"
      ],
      "execution_count": 11,
      "outputs": [
        {
          "output_type": "stream",
          "text": [
            "Epoch: 1/2..  Training Loss: 1.650..  Test Loss: 0.956..  Test Accuracy: 0.615\n",
            "Epoch: 1/2..  Training Loss: 1.028..  Test Loss: 0.751..  Test Accuracy: 0.725\n",
            "Epoch: 1/2..  Training Loss: 0.865..  Test Loss: 0.677..  Test Accuracy: 0.741\n",
            "Epoch: 1/2..  Training Loss: 0.769..  Test Loss: 0.635..  Test Accuracy: 0.752\n",
            "Epoch: 1/2..  Training Loss: 0.718..  Test Loss: 0.597..  Test Accuracy: 0.762\n",
            "Epoch: 1/2..  Training Loss: 0.718..  Test Loss: 0.613..  Test Accuracy: 0.764\n",
            "Epoch: 1/2..  Training Loss: 0.708..  Test Loss: 0.598..  Test Accuracy: 0.779\n",
            "Epoch: 1/2..  Training Loss: 0.674..  Test Loss: 0.561..  Test Accuracy: 0.787\n",
            "Epoch: 1/2..  Training Loss: 0.657..  Test Loss: 0.568..  Test Accuracy: 0.786\n",
            "Epoch: 1/2..  Training Loss: 0.625..  Test Loss: 0.538..  Test Accuracy: 0.802\n",
            "Epoch: 1/2..  Training Loss: 0.642..  Test Loss: 0.560..  Test Accuracy: 0.783\n",
            "Epoch: 1/2..  Training Loss: 0.662..  Test Loss: 0.522..  Test Accuracy: 0.807\n",
            "Epoch: 1/2..  Training Loss: 0.587..  Test Loss: 0.519..  Test Accuracy: 0.810\n",
            "Epoch: 1/2..  Training Loss: 0.598..  Test Loss: 0.534..  Test Accuracy: 0.803\n",
            "Epoch: 1/2..  Training Loss: 0.646..  Test Loss: 0.517..  Test Accuracy: 0.812\n",
            "Epoch: 1/2..  Training Loss: 0.594..  Test Loss: 0.516..  Test Accuracy: 0.806\n",
            "Epoch: 1/2..  Training Loss: 0.600..  Test Loss: 0.503..  Test Accuracy: 0.815\n",
            "Epoch: 1/2..  Training Loss: 0.546..  Test Loss: 0.498..  Test Accuracy: 0.814\n",
            "Epoch: 1/2..  Training Loss: 0.585..  Test Loss: 0.485..  Test Accuracy: 0.822\n",
            "Epoch: 1/2..  Training Loss: 0.583..  Test Loss: 0.486..  Test Accuracy: 0.820\n",
            "Epoch: 1/2..  Training Loss: 0.587..  Test Loss: 0.487..  Test Accuracy: 0.819\n",
            "Epoch: 1/2..  Training Loss: 0.568..  Test Loss: 0.481..  Test Accuracy: 0.824\n",
            "Epoch: 1/2..  Training Loss: 0.565..  Test Loss: 0.478..  Test Accuracy: 0.826\n",
            "Epoch: 2/2..  Training Loss: 0.565..  Test Loss: 0.493..  Test Accuracy: 0.822\n",
            "Epoch: 2/2..  Training Loss: 0.505..  Test Loss: 0.469..  Test Accuracy: 0.827\n",
            "Epoch: 2/2..  Training Loss: 0.557..  Test Loss: 0.469..  Test Accuracy: 0.829\n",
            "Epoch: 2/2..  Training Loss: 0.546..  Test Loss: 0.465..  Test Accuracy: 0.833\n",
            "Epoch: 2/2..  Training Loss: 0.522..  Test Loss: 0.507..  Test Accuracy: 0.815\n",
            "Epoch: 2/2..  Training Loss: 0.526..  Test Loss: 0.488..  Test Accuracy: 0.819\n",
            "Epoch: 2/2..  Training Loss: 0.570..  Test Loss: 0.464..  Test Accuracy: 0.834\n",
            "Epoch: 2/2..  Training Loss: 0.504..  Test Loss: 0.448..  Test Accuracy: 0.835\n",
            "Epoch: 2/2..  Training Loss: 0.569..  Test Loss: 0.462..  Test Accuracy: 0.832\n",
            "Epoch: 2/2..  Training Loss: 0.547..  Test Loss: 0.473..  Test Accuracy: 0.828\n",
            "Epoch: 2/2..  Training Loss: 0.509..  Test Loss: 0.463..  Test Accuracy: 0.832\n",
            "Epoch: 2/2..  Training Loss: 0.526..  Test Loss: 0.483..  Test Accuracy: 0.822\n",
            "Epoch: 2/2..  Training Loss: 0.557..  Test Loss: 0.483..  Test Accuracy: 0.826\n",
            "Epoch: 2/2..  Training Loss: 0.567..  Test Loss: 0.462..  Test Accuracy: 0.829\n",
            "Epoch: 2/2..  Training Loss: 0.507..  Test Loss: 0.446..  Test Accuracy: 0.839\n",
            "Epoch: 2/2..  Training Loss: 0.512..  Test Loss: 0.446..  Test Accuracy: 0.837\n",
            "Epoch: 2/2..  Training Loss: 0.525..  Test Loss: 0.448..  Test Accuracy: 0.840\n",
            "Epoch: 2/2..  Training Loss: 0.559..  Test Loss: 0.459..  Test Accuracy: 0.841\n",
            "Epoch: 2/2..  Training Loss: 0.540..  Test Loss: 0.476..  Test Accuracy: 0.833\n",
            "Epoch: 2/2..  Training Loss: 0.509..  Test Loss: 0.441..  Test Accuracy: 0.843\n",
            "Epoch: 2/2..  Training Loss: 0.531..  Test Loss: 0.442..  Test Accuracy: 0.844\n",
            "Epoch: 2/2..  Training Loss: 0.526..  Test Loss: 0.440..  Test Accuracy: 0.839\n",
            "Epoch: 2/2..  Training Loss: 0.520..  Test Loss: 0.434..  Test Accuracy: 0.846\n"
          ],
          "name": "stdout"
        }
      ]
    },
    {
      "cell_type": "markdown",
      "metadata": {
        "id": "68z_j8ZYNGUD",
        "colab_type": "text"
      },
      "source": [
        "## Saving and loading networks\n",
        "\n",
        "As you can imagine, it's impractical to train a network every time you need to use it. Instead, we can save trained networks then load them later to train more or use them for predictions.\n",
        "\n",
        "The parameters for PyTorch networks are stored in a model's `state_dict`. We can see the state dict contains the weight and bias matrices for each of our layers."
      ]
    },
    {
      "cell_type": "code",
      "metadata": {
        "id": "IFASey0FNGUE",
        "colab_type": "code",
        "colab": {
          "base_uri": "https://localhost:8080/",
          "height": 292
        },
        "outputId": "27403cb0-4fbc-4330-82a4-9c68e901025b"
      },
      "source": [
        "print(\"Our model: \\n\\n\", model, '\\n')\n",
        "print(\"The state dict keys: \\n\\n\", model.state_dict().keys())"
      ],
      "execution_count": 12,
      "outputs": [
        {
          "output_type": "stream",
          "text": [
            "Our model: \n",
            "\n",
            " Network(\n",
            "  (hidden_layers): ModuleList(\n",
            "    (0): Linear(in_features=784, out_features=512, bias=True)\n",
            "    (1): Linear(in_features=512, out_features=256, bias=True)\n",
            "    (2): Linear(in_features=256, out_features=128, bias=True)\n",
            "  )\n",
            "  (output): Linear(in_features=128, out_features=10, bias=True)\n",
            "  (dropout): Dropout(p=0.5)\n",
            ") \n",
            "\n",
            "The state dict keys: \n",
            "\n",
            " odict_keys(['hidden_layers.0.weight', 'hidden_layers.0.bias', 'hidden_layers.1.weight', 'hidden_layers.1.bias', 'hidden_layers.2.weight', 'hidden_layers.2.bias', 'output.weight', 'output.bias'])\n"
          ],
          "name": "stdout"
        }
      ]
    },
    {
      "cell_type": "markdown",
      "metadata": {
        "id": "KNBylyzDNGUH",
        "colab_type": "text"
      },
      "source": [
        "The simplest thing to do is simply save the state dict with `torch.save`. For example, we can save it to a file `'checkpoint.pth'`."
      ]
    },
    {
      "cell_type": "code",
      "metadata": {
        "id": "KWzHCdrLNGUJ",
        "colab_type": "code",
        "colab": {}
      },
      "source": [
        "torch.save(model.state_dict(), 'checkpoint.pth')"
      ],
      "execution_count": 0,
      "outputs": []
    },
    {
      "cell_type": "markdown",
      "metadata": {
        "id": "yPLiBevaNGUO",
        "colab_type": "text"
      },
      "source": [
        "Then we can load the state dict with `torch.load`."
      ]
    },
    {
      "cell_type": "code",
      "metadata": {
        "id": "Y7pZoi8yNGUP",
        "colab_type": "code",
        "colab": {
          "base_uri": "https://localhost:8080/",
          "height": 54
        },
        "outputId": "133bf31f-cb65-4918-b170-c63bf1b059b2"
      },
      "source": [
        "state_dict = torch.load('checkpoint.pth')\n",
        "print(state_dict.keys())"
      ],
      "execution_count": 14,
      "outputs": [
        {
          "output_type": "stream",
          "text": [
            "odict_keys(['hidden_layers.0.weight', 'hidden_layers.0.bias', 'hidden_layers.1.weight', 'hidden_layers.1.bias', 'hidden_layers.2.weight', 'hidden_layers.2.bias', 'output.weight', 'output.bias'])\n"
          ],
          "name": "stdout"
        }
      ]
    },
    {
      "cell_type": "markdown",
      "metadata": {
        "id": "z3ri6WtbNGUY",
        "colab_type": "text"
      },
      "source": [
        "And to load the state dict in to the network, you do `model.load_state_dict(state_dict)`."
      ]
    },
    {
      "cell_type": "code",
      "metadata": {
        "id": "a9FRSoKiNGUc",
        "colab_type": "code",
        "colab": {
          "base_uri": "https://localhost:8080/",
          "height": 34
        },
        "outputId": "979812e4-4cd7-4849-efca-6c85d70b0011"
      },
      "source": [
        "model.load_state_dict(state_dict)"
      ],
      "execution_count": 15,
      "outputs": [
        {
          "output_type": "execute_result",
          "data": {
            "text/plain": [
              "IncompatibleKeys(missing_keys=[], unexpected_keys=[])"
            ]
          },
          "metadata": {
            "tags": []
          },
          "execution_count": 15
        }
      ]
    },
    {
      "cell_type": "markdown",
      "metadata": {
        "id": "xMNm42BrNGUh",
        "colab_type": "text"
      },
      "source": [
        "Seems pretty straightforward, but as usual it's a bit more complicated. Loading the state dict works only if the model architecture is exactly the same as the checkpoint architecture. If I create a model with a different architecture, this fails."
      ]
    },
    {
      "cell_type": "code",
      "metadata": {
        "id": "vhEWUSB9NGUi",
        "colab_type": "code",
        "colab": {
          "base_uri": "https://localhost:8080/",
          "height": 455
        },
        "outputId": "f8e7f9a8-daea-4747-fce6-d0f77b8a71de"
      },
      "source": [
        "# Try this\n",
        "model = fc_model.Network(784, 10, [400, 200, 100])\n",
        "# This will throw an error because the tensor sizes are wrong!\n",
        "model.load_state_dict(state_dict)"
      ],
      "execution_count": 16,
      "outputs": [
        {
          "output_type": "error",
          "ename": "RuntimeError",
          "evalue": "ignored",
          "traceback": [
            "\u001b[0;31m---------------------------------------------------------------------------\u001b[0m",
            "\u001b[0;31mRuntimeError\u001b[0m                              Traceback (most recent call last)",
            "\u001b[0;32m<ipython-input-16-cc11e1013989>\u001b[0m in \u001b[0;36m<module>\u001b[0;34m()\u001b[0m\n\u001b[1;32m      1\u001b[0m \u001b[0mmodel\u001b[0m \u001b[0;34m=\u001b[0m \u001b[0mfc_model\u001b[0m\u001b[0;34m.\u001b[0m\u001b[0mNetwork\u001b[0m\u001b[0;34m(\u001b[0m\u001b[0;36m784\u001b[0m\u001b[0;34m,\u001b[0m \u001b[0;36m10\u001b[0m\u001b[0;34m,\u001b[0m \u001b[0;34m[\u001b[0m\u001b[0;36m400\u001b[0m\u001b[0;34m,\u001b[0m \u001b[0;36m200\u001b[0m\u001b[0;34m,\u001b[0m \u001b[0;36m100\u001b[0m\u001b[0;34m]\u001b[0m\u001b[0;34m)\u001b[0m\u001b[0;34m\u001b[0m\u001b[0;34m\u001b[0m\u001b[0m\n\u001b[1;32m      2\u001b[0m \u001b[0;31m# This will throw an error because the tensor sizes are wrong!\u001b[0m\u001b[0;34m\u001b[0m\u001b[0;34m\u001b[0m\u001b[0;34m\u001b[0m\u001b[0m\n\u001b[0;32m----> 3\u001b[0;31m \u001b[0mmodel\u001b[0m\u001b[0;34m.\u001b[0m\u001b[0mload_state_dict\u001b[0m\u001b[0;34m(\u001b[0m\u001b[0mstate_dict\u001b[0m\u001b[0;34m)\u001b[0m\u001b[0;34m\u001b[0m\u001b[0;34m\u001b[0m\u001b[0m\n\u001b[0m",
            "\u001b[0;32m/usr/local/lib/python3.6/dist-packages/torch/nn/modules/module.py\u001b[0m in \u001b[0;36mload_state_dict\u001b[0;34m(self, state_dict, strict)\u001b[0m\n\u001b[1;32m    775\u001b[0m         \u001b[0;32mif\u001b[0m \u001b[0mlen\u001b[0m\u001b[0;34m(\u001b[0m\u001b[0merror_msgs\u001b[0m\u001b[0;34m)\u001b[0m \u001b[0;34m>\u001b[0m \u001b[0;36m0\u001b[0m\u001b[0;34m:\u001b[0m\u001b[0;34m\u001b[0m\u001b[0;34m\u001b[0m\u001b[0m\n\u001b[1;32m    776\u001b[0m             raise RuntimeError('Error(s) in loading state_dict for {}:\\n\\t{}'.format(\n\u001b[0;32m--> 777\u001b[0;31m                                self.__class__.__name__, \"\\n\\t\".join(error_msgs)))\n\u001b[0m\u001b[1;32m    778\u001b[0m         \u001b[0;32mreturn\u001b[0m \u001b[0m_IncompatibleKeys\u001b[0m\u001b[0;34m(\u001b[0m\u001b[0mmissing_keys\u001b[0m\u001b[0;34m,\u001b[0m \u001b[0munexpected_keys\u001b[0m\u001b[0;34m)\u001b[0m\u001b[0;34m\u001b[0m\u001b[0;34m\u001b[0m\u001b[0m\n\u001b[1;32m    779\u001b[0m \u001b[0;34m\u001b[0m\u001b[0m\n",
            "\u001b[0;31mRuntimeError\u001b[0m: Error(s) in loading state_dict for Network:\n\tsize mismatch for hidden_layers.0.weight: copying a param with shape torch.Size([512, 784]) from checkpoint, the shape in current model is torch.Size([400, 784]).\n\tsize mismatch for hidden_layers.0.bias: copying a param with shape torch.Size([512]) from checkpoint, the shape in current model is torch.Size([400]).\n\tsize mismatch for hidden_layers.1.weight: copying a param with shape torch.Size([256, 512]) from checkpoint, the shape in current model is torch.Size([200, 400]).\n\tsize mismatch for hidden_layers.1.bias: copying a param with shape torch.Size([256]) from checkpoint, the shape in current model is torch.Size([200]).\n\tsize mismatch for hidden_layers.2.weight: copying a param with shape torch.Size([128, 256]) from checkpoint, the shape in current model is torch.Size([100, 200]).\n\tsize mismatch for hidden_layers.2.bias: copying a param with shape torch.Size([128]) from checkpoint, the shape in current model is torch.Size([100]).\n\tsize mismatch for output.weight: copying a param with shape torch.Size([10, 128]) from checkpoint, the shape in current model is torch.Size([10, 100])."
          ]
        }
      ]
    },
    {
      "cell_type": "markdown",
      "metadata": {
        "id": "9qcbR6fMNGUs",
        "colab_type": "text"
      },
      "source": [
        "This means we need to rebuild the model exactly as it was when trained. Information about the model architecture needs to be saved in the checkpoint, along with the state dict. To do this, you build a dictionary with all the information you need to compeletely rebuild the model."
      ]
    },
    {
      "cell_type": "code",
      "metadata": {
        "id": "DhvbGSbmNGUs",
        "colab_type": "code",
        "colab": {}
      },
      "source": [
        "checkpoint = {'input_size': 784,\n",
        "              'output_size': 10,\n",
        "              'hidden_layers': [each.out_features for each in model.hidden_layers],\n",
        "              'state_dict': model.state_dict()}\n",
        "\n",
        "torch.save(checkpoint, 'checkpoint.pth')"
      ],
      "execution_count": 0,
      "outputs": []
    },
    {
      "cell_type": "markdown",
      "metadata": {
        "id": "1FAowz8INGUy",
        "colab_type": "text"
      },
      "source": [
        "Now the checkpoint has all the necessary information to rebuild the trained model. You can easily make that a function if you want. Similarly, we can write a function to load checkpoints. "
      ]
    },
    {
      "cell_type": "code",
      "metadata": {
        "id": "Kv5demiBNGU0",
        "colab_type": "code",
        "colab": {}
      },
      "source": [
        "def load_checkpoint(filepath):\n",
        "    checkpoint = torch.load(filepath)\n",
        "    model = fc_model.Network(checkpoint['input_size'],\n",
        "                             checkpoint['output_size'],\n",
        "                             checkpoint['hidden_layers'])\n",
        "    model.load_state_dict(checkpoint['state_dict'])\n",
        "    \n",
        "    return model"
      ],
      "execution_count": 0,
      "outputs": []
    },
    {
      "cell_type": "code",
      "metadata": {
        "id": "9LWJQiXfNGU3",
        "colab_type": "code",
        "colab": {
          "base_uri": "https://localhost:8080/",
          "height": 170
        },
        "outputId": "98b76a76-2b5b-48c7-d92d-5db24857d1bb"
      },
      "source": [
        "model = load_checkpoint('checkpoint.pth')\n",
        "print(model)"
      ],
      "execution_count": 20,
      "outputs": [
        {
          "output_type": "stream",
          "text": [
            "Network(\n",
            "  (hidden_layers): ModuleList(\n",
            "    (0): Linear(in_features=784, out_features=400, bias=True)\n",
            "    (1): Linear(in_features=400, out_features=200, bias=True)\n",
            "    (2): Linear(in_features=200, out_features=100, bias=True)\n",
            "  )\n",
            "  (output): Linear(in_features=100, out_features=10, bias=True)\n",
            "  (dropout): Dropout(p=0.5)\n",
            ")\n"
          ],
          "name": "stdout"
        }
      ]
    }
  ]
}